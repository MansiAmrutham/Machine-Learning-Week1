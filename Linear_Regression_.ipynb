{
  "nbformat": 4,
  "nbformat_minor": 0,
  "metadata": {
    "colab": {
      "provenance": []
    },
    "kernelspec": {
      "name": "python3",
      "display_name": "Python 3"
    },
    "language_info": {
      "name": "python"
    }
  },
  "cells": [
    {
      "cell_type": "code",
      "execution_count": 1,
      "metadata": {
        "id": "UVdjAxH5Mhfs"
      },
      "outputs": [],
      "source": [
        "import numpy as np\n",
        "import pandas as pd\n",
        "import matplotlib.pyplot as plt"
      ]
    },
    {
      "cell_type": "code",
      "source": [
        "data = pd.read_excel('/content/Training data - Copy.xlsx')\n",
        "x_train = np.array(data.iloc[:,0:8])\n",
        "y_train = np.array(data.iloc[:,8]).reshape(-1,1)"
      ],
      "metadata": {
        "id": "OYh5df0PMkJv"
      },
      "execution_count": 5,
      "outputs": []
    },
    {
      "cell_type": "code",
      "source": [
        "def feature_changing(x_train):\n",
        "  x_train[:,0] = (x_train[:,0] == 'yes').astype(int)\n",
        "  x_train[:,1] = (x_train[:,1] == 'M').astype(int)\n",
        "  return x_train\n",
        "\n",
        "x_train = feature_changing(x_train)\n"
      ],
      "metadata": {
        "id": "rISLzQTiMmyz"
      },
      "execution_count": 6,
      "outputs": []
    },
    {
      "cell_type": "code",
      "source": [
        "def z_score(x_train):\n",
        "  x_mean = np.mean(x_train,axis=0).reshape(1,-1)\n",
        "  x_std = np.std(x_train,axis=0).reshape(1,-1)\n",
        "  x_train = (x_train - x_mean)/x_std\n",
        "  return x_train,x_std,x_mean\n",
        "\n"
      ],
      "metadata": {
        "id": "nQSMJrfXPJKz"
      },
      "execution_count": 7,
      "outputs": []
    },
    {
      "cell_type": "code",
      "source": [
        "def cost(x_train,y_train,w,b):\n",
        "  y_predict = np.dot(x_train,w) + b\n",
        "  loss = np.mean((y_predict - y_train)**2)\n",
        "  return loss"
      ],
      "metadata": {
        "id": "Mr_bKuOpPM2n"
      },
      "execution_count": 8,
      "outputs": []
    },
    {
      "cell_type": "code",
      "source": [
        "def gradient_descent(x_train,y_train,w,b):\n",
        "  y_predict = np.dot(x_train,w) + b\n",
        "  dw = (1/x_train.shape[0])*np.dot(x_train.T,(y_predict - y_train))\n",
        "  db = (1/x_train.shape[0])*np.sum(y_predict - y_train)\n",
        "  w = w - 0.001*dw\n",
        "  b = b - 0.001*db\n",
        "  return w,b"
      ],
      "metadata": {
        "id": "ZRuwIHi2PQ46"
      },
      "execution_count": 9,
      "outputs": []
    },
    {
      "cell_type": "code",
      "source": [
        "x_train = x_train.astype(np.float64)\n",
        "x_train,x_std,x_mean = z_score(x_train)"
      ],
      "metadata": {
        "id": "bGTnEpnfPVpM"
      },
      "execution_count": 10,
      "outputs": []
    },
    {
      "cell_type": "code",
      "source": [
        "np.random.seed(2147483647)\n",
        "w = np.random.randn(x_train.shape[1],1)\n",
        "b = np.random.randn(1)"
      ],
      "metadata": {
        "id": "Hod07ihxPftF"
      },
      "execution_count": 11,
      "outputs": []
    },
    {
      "cell_type": "code",
      "source": [
        "old_cost = 0"
      ],
      "metadata": {
        "id": "Drr4U-4oPinL"
      },
      "execution_count": 12,
      "outputs": []
    },
    {
      "cell_type": "code",
      "source": [
        "while abs(old_cost - cost(x_train,y_train,w,b))>0.00001:\n",
        "  old_cost = cost(x_train,y_train,w,b)\n",
        "  w,b = gradient_descent(x_train,y_train,w,b)"
      ],
      "metadata": {
        "id": "8pKvpl_jPlAk"
      },
      "execution_count": 13,
      "outputs": []
    },
    {
      "cell_type": "code",
      "source": [
        "x_predict = pd.read_excel('Test data.xlsx').iloc[:,:8].to_numpy()\n",
        "x_predict = feature_changing(x_predict)\n",
        "x_predict = (x_predict - x_mean)/x_std\n",
        "ans = pd.read_excel('Test data.xlsx').iloc[:,8].to_numpy()"
      ],
      "metadata": {
        "id": "a96U9JL6PpYG"
      },
      "execution_count": 14,
      "outputs": []
    },
    {
      "cell_type": "code",
      "source": [
        "y_predict = np.dot(x_predict,w) + b"
      ],
      "metadata": {
        "id": "c-vRMF1rPuyx"
      },
      "execution_count": 15,
      "outputs": []
    },
    {
      "cell_type": "code",
      "source": [
        "accuracy = 0\n",
        "for dim in range(len(ans)):\n",
        "  if abs(y_predict[dim]-ans[dim])<0.5:\n",
        "    accuracy += 1\n",
        "accuracy = round(accuracy*100/200.0,2)\n",
        "ok = 'Congratulations' if accuracy>95 else 'Optimization required'\n",
        "print(f\"{ok}, your accuracy is {accuracy}%\")"
      ],
      "metadata": {
        "colab": {
          "base_uri": "https://localhost:8080/"
        },
        "id": "561rLvZyPx6_",
        "outputId": "fd4b9b5f-2d62-41f3-e6c5-3c99174f7752"
      },
      "execution_count": 16,
      "outputs": [
        {
          "output_type": "stream",
          "name": "stdout",
          "text": [
            "Congratulations, your accuracy is 100.0%\n"
          ]
        }
      ]
    }
  ]
}